{
 "cells": [
  {
   "cell_type": "code",
   "execution_count": null,
   "metadata": {},
   "outputs": [],
   "source": [
    "import os\n",
    "import pydicom\n",
    "import matplotlib.pyplot as plt"
   ]
  },
  {
   "cell_type": "code",
   "execution_count": null,
   "metadata": {},
   "outputs": [],
   "source": [
    "dicom_dir = 'DICOM'\n",
    "\n",
    "def get_slice_location(dicom_file):\n",
    "    try:\n",
    "        return float(dicom_file.SliceLocation)\n",
    "    except AttributeError:\n",
    "        return None\n",
    "\n",
    "ct_files = []\n",
    "pet_files = []\n",
    "\n",
    "for filename in os.listdir(dicom_dir):\n",
    "    if filename.lower().endswith(\".dcm\"):\n",
    "        file_path = os.path.join(dicom_dir, filename)\n",
    "        dicom_data = pydicom.dcmread(file_path)\n",
    "        \n",
    "        if \"CT\" in filename:\n",
    "            ct_files.append(dicom_data)\n",
    "        elif \"PET\" in filename:\n",
    "            pet_files.append(dicom_data)\n",
    "\n",
    "ct_files = sorted([f for f in ct_files if get_slice_location(f) is not None], key=get_slice_location, reverse=True)\n",
    "pet_files = sorted([f for f in pet_files if get_slice_location(f) is not None], key=get_slice_location, reverse=True)\n",
    "\n",
    "print(f\"Length of CT series: {len(ct_files)}\")\n",
    "print(f\"Length of PET series: {len(pet_files)}\")"
   ]
  },
  {
   "cell_type": "code",
   "execution_count": null,
   "metadata": {},
   "outputs": [],
   "source": [
    "if len(ct_files) > 0:\n",
    "    ct_file = ct_files[0]\n",
    "\n",
    "    kvp = getattr(ct_file, 'KVP', 'N/A')\n",
    "    slope = getattr(ct_file, 'RescaleSlope', 'N/A')\n",
    "    intercept = getattr(ct_file, 'RescaleIntercept', 'N/A')\n",
    "    manufacturer = getattr(ct_file, 'Manufacturer', 'N/A')\n",
    "    patient_sex = getattr(ct_file, 'PatientSex', 'N/A')\n",
    "    patient_weight = getattr(ct_file, 'PatientWeight', 'N/A')\n",
    "\n",
    "    print(\"CT Information:\")\n",
    "    print(f\"- KVP: {kvp}\")\n",
    "    print(f\"- Rescale Slope: {slope}\")\n",
    "    print(f\"- Rescale Intercept: {intercept}\")\n",
    "    print(f\"- Manufacturer: {manufacturer}\")\n",
    "    print(f\"- Patient Sex: {patient_sex}\")\n",
    "    print(f\"- Patient Weight: {patient_weight}\")"
   ]
  },
  {
   "cell_type": "code",
   "execution_count": null,
   "metadata": {},
   "outputs": [],
   "source": [
    "if len(ct_files) > 0 and len(ct_files) > 0:\n",
    "    ct_file = ct_files[0]\n",
    "    pet_file = pet_files[0]\n",
    "    \n",
    "    ct_image = ct_file.pixel_array\n",
    "    pet_image = pet_file.pixel_array\n",
    "    \n",
    "    print(f\"2D CT image's shape: {ct_image.shape}\")\n",
    "    print(f\"2D PET image's shape: {pet_image.shape}\")\n",
    "    \n",
    "    fig, axs = plt.subplots(1, 2, figsize=(10, 5))\n",
    "\n",
    "    axs[0].imshow(ct_image, cmap='gray')\n",
    "    axs[0].set_title(\"CT Image\")\n",
    "    axs[0].axis('off') \n",
    "\n",
    "    axs[1].imshow(pet_image, cmap='gray')\n",
    "    axs[1].set_title(\"PET Image\")\n",
    "    axs[1].axis('off') \n",
    "\n",
    "    plt.tight_layout()\n",
    "    plt.show()"
   ]
  }
 ],
 "metadata": {
  "kernelspec": {
   "display_name": "Python 3",
   "language": "python",
   "name": "python3"
  },
  "language_info": {
   "codemirror_mode": {
    "name": "ipython",
    "version": 3
   },
   "file_extension": ".py",
   "mimetype": "text/x-python",
   "name": "python",
   "nbconvert_exporter": "python",
   "pygments_lexer": "ipython3",
   "version": "3.12.6"
  }
 },
 "nbformat": 4,
 "nbformat_minor": 2
}
