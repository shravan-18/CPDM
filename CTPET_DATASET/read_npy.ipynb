{
 "cells": [
  {
   "cell_type": "code",
   "execution_count": null,
   "metadata": {},
   "outputs": [],
   "source": [
    "import numpy as np\n",
    "import matplotlib.pyplot as plt"
   ]
  },
  {
   "cell_type": "code",
   "execution_count": null,
   "metadata": {},
   "outputs": [],
   "source": [
    "_3d_ct_image = np.load('Auto-Paired/ct.npy')\n",
    "_3d_pet_image = np.load('Auto-Paired/pet.npy')\n",
    "\n",
    "print(f\"3D CT image's shape: {_3d_ct_image.shape}\")\n",
    "print(f\"3D PET image's shape: {_3d_pet_image.shape}\")"
   ]
  },
  {
   "cell_type": "code",
   "execution_count": null,
   "metadata": {},
   "outputs": [],
   "source": [
    "_2d_ct_image = _3d_ct_image[0]\n",
    "_2d_pet_image = _3d_ct_image[0]\n",
    "\n",
    "print(f\"2D CT image's shape: {_2d_ct_image.shape}\")\n",
    "print(f\"2D PET image's shape: {_2d_pet_image.shape}\")\n",
    "\n",
    "fig, axs = plt.subplots(1, 2, figsize=(10, 5))\n",
    "\n",
    "axs[0].imshow(_2d_ct_image, cmap='gray')\n",
    "axs[0].set_title(\"CT Image\")\n",
    "axs[0].axis('off') \n",
    "\n",
    "axs[1].imshow(_2d_pet_image, cmap='gray')\n",
    "axs[1].set_title(\"PET Image\")\n",
    "axs[1].axis('off') \n",
    "\n",
    "plt.tight_layout()\n",
    "plt.show()"
   ]
  }
 ],
 "metadata": {
  "kernelspec": {
   "display_name": "Python 3",
   "language": "python",
   "name": "python3"
  },
  "language_info": {
   "codemirror_mode": {
    "name": "ipython",
    "version": 3
   },
   "file_extension": ".py",
   "mimetype": "text/x-python",
   "name": "python",
   "nbconvert_exporter": "python",
   "pygments_lexer": "ipython3",
   "version": "3.12.6"
  }
 },
 "nbformat": 4,
 "nbformat_minor": 2
}
